{
  "nbformat": 4,
  "nbformat_minor": 0,
  "metadata": {
    "colab": {
      "name": "~p. 421 - Many things about DL (callbacks, save models).ipynb",
      "provenance": [],
      "collapsed_sections": []
    },
    "kernelspec": {
      "name": "python3",
      "display_name": "Python 3"
    },
    "language_info": {
      "name": "python"
    },
    "accelerator": "GPU"
  },
  "cells": [
    {
      "cell_type": "code",
      "execution_count": null,
      "metadata": {
        "id": "U4ye_y09zf4s",
        "colab": {
          "base_uri": "https://localhost:8080/"
        },
        "outputId": "1f80fb2a-0520-43a9-f939-cef012fa336f"
      },
      "outputs": [
        {
          "output_type": "stream",
          "name": "stdout",
          "text": [
            "Downloading data from https://storage.googleapis.com/tensorflow/tf-keras-datasets/train-labels-idx1-ubyte.gz\n",
            "32768/29515 [=================================] - 0s 0us/step\n",
            "40960/29515 [=========================================] - 0s 0us/step\n",
            "Downloading data from https://storage.googleapis.com/tensorflow/tf-keras-datasets/train-images-idx3-ubyte.gz\n",
            "26427392/26421880 [==============================] - 0s 0us/step\n",
            "26435584/26421880 [==============================] - 0s 0us/step\n",
            "Downloading data from https://storage.googleapis.com/tensorflow/tf-keras-datasets/t10k-labels-idx1-ubyte.gz\n",
            "16384/5148 [===============================================================================================] - 0s 0us/step\n",
            "Downloading data from https://storage.googleapis.com/tensorflow/tf-keras-datasets/t10k-images-idx3-ubyte.gz\n",
            "4423680/4422102 [==============================] - 0s 0us/step\n",
            "4431872/4422102 [==============================] - 0s 0us/step\n"
          ]
        }
      ],
      "source": [
        "# 신경망 모델 훈련 \n",
        "\n",
        "# 사이킷런에서 제공하는 머신러닝 알고리즘들은 좋은 성능을 내기 위해 매개변수를 조정하고 훈련하는 과정을 반복한다.\n",
        "# 그래서 고정되어 있다고 느낄 수 있는데, 딥러닝은 직접 만드는 느낌이 강하다.\n",
        "\n",
        "from tensorflow import keras\n",
        "from sklearn.model_selection import train_test_split\n",
        "(train_input, train_target), (test_input, test_target) = keras.datasets.fashion_mnist.load_data()\n",
        "train_scaled = train_input / 255.0\n",
        "train_scaled, val_scaled, train_target, val_target = train_test_split(train_scaled, train_target, test_size=0.2, random_state=42)\n"
      ]
    },
    {
      "cell_type": "code",
      "source": [
        "# 모델을 만드는 간단한 함수를 만든다.\n",
        "def model_fn(a_layer=None):\n",
        "  model=keras.Sequential()\n",
        "  model.add(keras.layers.Flatten(input_shape=(28,28)))\n",
        "  model.add(keras.layers.Dense(100,activation='relu'))\n",
        "  if a_layer:\n",
        "    model.add(a_layer)\n",
        "  model.add(keras.layers.Dense(10,activation='softmax'))\n",
        "  return model"
      ],
      "metadata": {
        "id": "1JV5Xh5N0nQ9"
      },
      "execution_count": null,
      "outputs": []
    },
    {
      "cell_type": "code",
      "source": [
        "# 모델 하나 생성하고 학습.\n",
        "model=model_fn()\n",
        "model.summary()\n",
        "\n",
        "model.compile(loss=\"sparse_categorical_crossentropy\", metrics='accuracy')\n",
        "history = model.fit(train_scaled, train_target, epochs=20, verbose=0)"
      ],
      "metadata": {
        "colab": {
          "base_uri": "https://localhost:8080/"
        },
        "id": "mutHxgKczyQD",
        "outputId": "95190da8-961d-479e-fa41-4f1252520a96"
      },
      "execution_count": null,
      "outputs": [
        {
          "output_type": "stream",
          "name": "stdout",
          "text": [
            "Model: \"sequential\"\n",
            "_________________________________________________________________\n",
            " Layer (type)                Output Shape              Param #   \n",
            "=================================================================\n",
            " flatten (Flatten)           (None, 784)               0         \n",
            "                                                                 \n",
            " dense (Dense)               (None, 100)               78500     \n",
            "                                                                 \n",
            " dense_1 (Dense)             (None, 10)                1010      \n",
            "                                                                 \n",
            "=================================================================\n",
            "Total params: 79,510\n",
            "Trainable params: 79,510\n",
            "Non-trainable params: 0\n",
            "_________________________________________________________________\n"
          ]
        }
      ]
    },
    {
      "cell_type": "code",
      "source": [
        "print(history.history.keys())\n",
        "import matplotlib.pyplot as plt\n",
        "plt.plot(history.history['loss'])\n",
        "plt.xlabel('epoch')\n",
        "plt.ylabel('loss')\n",
        "plt.show()\n",
        "\n",
        "plt.plot(history.history['accuracy'])\n",
        "plt.xlabel('epoch')\n",
        "plt.ylabel('accuracy')\n",
        "plt.show()\n",
        "\n",
        "# 횟수가 늘어나면 손실이 줄어들긴 하는데, 과연 이게 맞는가?"
      ],
      "metadata": {
        "colab": {
          "base_uri": "https://localhost:8080/",
          "height": 558
        },
        "id": "_PwlQZB-1-1o",
        "outputId": "f4ce89b6-fc9f-4263-a6cb-01967f476d06"
      },
      "execution_count": null,
      "outputs": [
        {
          "output_type": "stream",
          "name": "stdout",
          "text": [
            "dict_keys(['loss', 'accuracy'])\n"
          ]
        },
        {
          "output_type": "display_data",
          "data": {
            "text/plain": [
              "<Figure size 432x288 with 1 Axes>"
            ],
            "image/png": "[encoded data removed]"
          },
          "metadata": {
            "needs_background": "light"
          }
        },
        {
          "output_type": "display_data",
          "data": {
            "text/plain": [
              "<Figure size 432x288 with 1 Axes>"
            ],
            "image/png": "[encoded data removed]"
          },
          "metadata": {
            "needs_background": "light"
          }
        }
      ]
    },
    {
      "cell_type": "markdown",
      "source": [
        ""
      ],
      "metadata": {
        "id": "qtICiLLemQQ1"
      }
    },
    {
      "cell_type": "code",
      "source": [
        "# 검증 손실\n",
        "# 인공 신경망은 정확도가 아니라 손실 함수를 최적화 하는거다.\n",
        "# 손실 함수에 비례하여 정확도가 움직이지 않는 경우도 많다.\n",
        "\n",
        "# 검증 세트에 대한 손실 함수도 그려보자.\n",
        "\n",
        "model = model_fn()\n",
        "model.compile(optimizer='adam',loss='sparse_categorical_crossentropy', metrics='accuracy')\n",
        "history = model.fit(train_scaled, train_target, epochs=20, verbose=0, validation_data=(val_scaled, val_target))\n",
        "# 이렇게하면 history.history에 val_loss, val_accuracy도 있다.\n",
        "\n",
        "plt.plot(history.history['loss'])\n",
        "plt.plot(history.history['val_loss'])\n",
        "plt.xlabel('epoch')\n",
        "plt.ylabel('loss')\n",
        "plt.legend(['train','val'])\n",
        "plt.show()"
      ],
      "metadata": {
        "id": "h8FrURrQ6e8g"
      },
      "execution_count": null,
      "outputs": []
    },
    {
      "cell_type": "code",
      "source": [
        "# 과대적합을 막기 위해서 옵티마이저를 변경한다면, 기본인 RMSprop -> adam이 좋다.\n",
        "\n",
        "# 그럼 신경망에서 사용되는 대표적인 규제 방법은 무엇인가?\n",
        "# 드롭아웃 - 뉴런의 일부를 Off 하는거다. 즉, 뉴런의 출력을 0으로 만드는거다.\n",
        "model = model_fn(keras.layers.Dropout(0.3))\n",
        "model.summary()\n",
        "\n",
        "# 이 때, 드롭아웃 층은 마지막 검증 과정에서는 꼭 빼야한다.\n",
        " "
      ],
      "metadata": {
        "id": "caws-hQw_8uw",
        "colab": {
          "base_uri": "https://localhost:8080/"
        },
        "outputId": "3fe167b1-ce4a-41f0-b499-8ef5e5d7cb68"
      },
      "execution_count": null,
      "outputs": [
        {
          "output_type": "stream",
          "name": "stdout",
          "text": [
            "Model: \"sequential_5\"\n",
            "_________________________________________________________________\n",
            " Layer (type)                Output Shape              Param #   \n",
            "=================================================================\n",
            " flatten_5 (Flatten)         (None, 784)               0         \n",
            "                                                                 \n",
            " dense_10 (Dense)            (None, 100)               78500     \n",
            "                                                                 \n",
            " dropout_2 (Dropout)         (None, 100)               0         \n",
            "                                                                 \n",
            " dense_11 (Dense)            (None, 10)                1010      \n",
            "                                                                 \n",
            "=================================================================\n",
            "Total params: 79,510\n",
            "Trainable params: 79,510\n",
            "Non-trainable params: 0\n",
            "_________________________________________________________________\n"
          ]
        }
      ]
    },
    {
      "cell_type": "code",
      "source": [
        "model.compile(optimizer='adam',loss='sparse_categorical_crossentropy', metrics='accuracy')\n",
        "history = model.fit(train_scaled, train_target, epochs=10, verbose=0, validation_data=(val_scaled, val_target))\n",
        "# 이렇게하면 history.history에 val_loss, val_accuracy도 있다.\n",
        "\n",
        "plt.plot(history.history['loss'])\n",
        "plt.plot(history.history['val_loss'])\n",
        "plt.xlabel('epoch')\n",
        "plt.ylabel('loss')\n",
        "plt.legend(['train','val'])\n",
        "plt.show()"
      ],
      "metadata": {
        "colab": {
          "base_uri": "https://localhost:8080/",
          "height": 279
        },
        "id": "eny3v0c2myeN",
        "outputId": "0a7f320c-8742-40a6-8318-c99e33b3ef0b"
      },
      "execution_count": null,
      "outputs": [
        {
          "output_type": "display_data",
          "data": {
            "text/plain": [
              "<Figure size 432x288 with 1 Axes>"
            ],
            "image/png": "[encoded data removed]"
          },
          "metadata": {
            "needs_background": "light"
          }
        }
      ]
    },
    {
      "cell_type": "code",
      "source": [
        "model.save_weights('model-weights.h5')\n",
        "model.save('model-whole.h5')"
      ],
      "metadata": {
        "id": "6fHmR8g4qOo6"
      },
      "execution_count": null,
      "outputs": []
    },
    {
      "cell_type": "code",
      "source": [
        "# 실험을 해보자.\n",
        "# 1. 훈련을 하지 않은 새로운 모델을 만들어서 model-weights.h5 파라미터 읽어서 사용\n",
        "# 2. model-whole.h5에서 새로운 모델 만들어서 바로 사용.\n",
        "\n",
        "# 방법 1. load_weights 후 compile, evaluate -> 안함.\n",
        "# 방법 2. predict로 직접 확률 계산.\n",
        "model = model_fn(keras.layers.Dropout(0.3))\n",
        "model.load_weights('model-weights.h5') # 이전 모델과 완전히 같은 구조여야만 가능.\n",
        "import numpy as np\n",
        "# 검증 모델로 직접 검증한거다. model.predict는 12,000 * 10개의 배열로 나온다.\n",
        "val_labels = np.argmax(model.predict(val_scaled),axis=-1) # axis=0이면 열 개수인 10개만 출력. 1이면 행 전부.\n",
        "print(np.mean(val_labels==val_target))\n",
        "\n",
        "# 방법 3. load_model 후 바로 evaluate\n",
        "# load_model은 옵티마이저까지 전부 원래대로 복원하기 때문에 evaluate를 바로 사용할 수 있다.\n",
        "model = keras.models.load_model('model-whole.h5')\n",
        "model.evaluate(val_scaled, val_target)"
      ],
      "metadata": {
        "colab": {
          "base_uri": "https://localhost:8080/"
        },
        "id": "PtJ3RZrLqeqK",
        "outputId": "ccb0011d-eabf-43a3-8d7a-eb21957b5244"
      },
      "execution_count": null,
      "outputs": [
        {
          "output_type": "stream",
          "name": "stdout",
          "text": [
            "0.8874166666666666\n",
            "375/375 [==============================] - 1s 2ms/step - loss: 0.3149 - accuracy: 0.8874\n"
          ]
        },
        {
          "output_type": "execute_result",
          "data": {
            "text/plain": [
              "[0.31489303708076477, 0.887416660785675]"
            ]
          },
          "metadata": {},
          "execution_count": 25
        }
      ]
    },
    {
      "cell_type": "markdown",
      "source": [
        "# 콜백함수의 모든 것"
      ],
      "metadata": {
        "id": "-pU6l3KPxX25"
      }
    },
    {
      "cell_type": "code",
      "source": [
        "# 다른 생각: 20번 해보고나서야 10번째가 제일 좋다는 사실을 깨닫고\n",
        "# 다시 10번해서 그 모델을 저장해야하나?\n",
        "# 바로 10번째에 그 모델을 저장할 수 있지 않을까? -> Callback 메서드를 이용해야한다\n",
        "\n",
        "model = model_fn(keras.layers.Dropout(0.3))\n",
        "model.compile(optimizer='adam',loss='sparse_categorical_crossentropy', metrics='accuracy')\n",
        "\n",
        "# 체크포인트 콜백함수\n",
        "checkpoint_cb = keras.callbacks.ModelCheckpoint('best-model.h5', save_best_only=True)\n",
        "\n",
        "# 조기 종료 콜백함수 (restore_best_weights 키면 가장 좋았던 파라미터로 돌린다.)\n",
        "early_stopping_cb = keras.callbacks.EarlyStopping(patience=2, restore_best_weights=True)\n",
        "\n",
        "# 콜백은 이렇게 넣는다.\n",
        "history = model.fit(train_scaled, train_target, epochs=20, verbose=0, validation_data=(val_scaled, val_target), callbacks=[checkpoint_cb, early_stopping_cb])\n",
        "\n",
        "# 가장 좋은 순간의 모델을 불러와서 평가한다.\n",
        "model = keras.models.load_model('best-model.h5')\n",
        "model.evaluate(val_scaled, val_target)"
      ],
      "metadata": {
        "colab": {
          "base_uri": "https://localhost:8080/"
        },
        "id": "TafpbBfxvRCx",
        "outputId": "2b55ac82-dc22-460d-9130-fe66a1f443bb"
      },
      "execution_count": null,
      "outputs": [
        {
          "output_type": "stream",
          "name": "stdout",
          "text": [
            "375/375 [==============================] - 1s 2ms/step - loss: 0.3219 - accuracy: 0.8834\n"
          ]
        },
        {
          "output_type": "execute_result",
          "data": {
            "text/plain": [
              "[0.32194510102272034, 0.8834166526794434]"
            ]
          },
          "metadata": {},
          "execution_count": 28
        }
      ]
    },
    {
      "cell_type": "code",
      "source": [
        "# 결과를 확인해보자.\n",
        "print(early_stopping_cb.stopped_epoch)\n",
        "\n",
        "plt.plot(history.history['loss'])\n",
        "plt.plot(history.history['val_loss'])\n",
        "plt.xlabel('epoch')\n",
        "plt.ylabel('loss')\n",
        "plt.legend(['train','val'])\n",
        "plt.show()\n",
        "\n",
        "model.evaluate(val_scaled, val_target)"
      ],
      "metadata": {
        "colab": {
          "base_uri": "https://localhost:8080/",
          "height": 331
        },
        "id": "Mhov0NiexxFT",
        "outputId": "c6f96731-61b9-4e5f-cb6e-761387ba4ea8"
      },
      "execution_count": null,
      "outputs": [
        {
          "output_type": "stream",
          "name": "stdout",
          "text": [
            "10\n"
          ]
        },
        {
          "output_type": "display_data",
          "data": {
            "text/plain": [
              "<Figure size 432x288 with 1 Axes>"
            ],
            "image/png": "[encoded data removed]"
          },
          "metadata": {
            "needs_background": "light"
          }
        },
        {
          "output_type": "stream",
          "name": "stdout",
          "text": [
            "375/375 [==============================] - 1s 3ms/step - loss: 0.3219 - accuracy: 0.8834\n"
          ]
        },
        {
          "output_type": "execute_result",
          "data": {
            "text/plain": [
              "[0.32194510102272034, 0.8834166526794434]"
            ]
          },
          "metadata": {},
          "execution_count": 30
        }
      ]
    }
  ]
}