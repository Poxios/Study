{
  "nbformat": 4,
  "nbformat_minor": 0,
  "metadata": {
    "colab": {
      "name": "~p.485 - Visualizing CNN.ipynb",
      "provenance": []
    },
    "kernelspec": {
      "name": "python3",
      "display_name": "Python 3"
    },
    "language_info": {
      "name": "python"
    }
  },
  "cells": [
    {
      "cell_type": "code",
      "execution_count": null,
      "metadata": {
        "id": "_pQLUe-CdVd_"
      },
      "outputs": [],
      "source": [
        "# 합성곱 신경망의 시각화\n",
        "# 합성곱 신경망의 특성 맵을 시각화하면 동작 원리 통찰력을 키울 수 있다.\n",
        "# 함수형 API도 배워보자.\n",
        "\n",
        "from tensorflow import keras\n",
        "import matplotlib.pyplot as plt\n"
      ]
    },
    {
      "cell_type": "code",
      "source": [
        "!wget https://github.com/Poxios/Study/raw/master/03.%20Machine%20Learning/01.%20%ED%98%BC%EC%9E%90%20%EA%B3%B5%EB%B6%80%ED%95%98%EB%8A%94%20%EB%A8%B8%EC%8B%A0%EB%9F%AC%EB%8B%9D/Extra/best-cnn-model.h5 -O bestmodel.h5\n",
        "model = keras.models.load_model('bestmodel.h5')"
      ],
      "metadata": {
        "colab": {
          "base_uri": "https://localhost:8080/"
        },
        "id": "U9ZTAGPLhnQt",
        "outputId": "a7341ba2-9cc0-4758-aa00-ebb45a0cedaf"
      },
      "execution_count": null,
      "outputs": [
        {
          "output_type": "stream",
          "name": "stdout",
          "text": [
            "--2022-05-15 04:28:09--  https://github.com/Poxios/Study/raw/master/03.%20Machine%20Learning/01.%20%ED%98%BC%EC%9E%90%20%EA%B3%B5%EB%B6%80%ED%95%98%EB%8A%94%20%EB%A8%B8%EC%8B%A0%EB%9F%AC%EB%8B%9D/Extra/best-cnn-model.h5\n",
            "Resolving github.com (github.com)... 140.82.121.4\n",
            "Connecting to github.com (github.com)|140.82.121.4|:443... connected.\n",
            "HTTP request sent, awaiting response... 302 Found\n",
            "Location: https://raw.githubusercontent.com/Poxios/Study/master/03.%20Machine%20Learning/01.%20%ED%98%BC%EC%9E%90%20%EA%B3%B5%EB%B6%80%ED%95%98%EB%8A%94%20%EB%A8%B8%EC%8B%A0%EB%9F%AC%EB%8B%9D/Extra/best-cnn-model.h5 [following]\n",
            "--2022-05-15 04:28:09--  https://raw.githubusercontent.com/Poxios/Study/master/03.%20Machine%20Learning/01.%20%ED%98%BC%EC%9E%90%20%EA%B3%B5%EB%B6%80%ED%95%98%EB%8A%94%20%EB%A8%B8%EC%8B%A0%EB%9F%AC%EB%8B%9D/Extra/best-cnn-model.h5\n",
            "Resolving raw.githubusercontent.com (raw.githubusercontent.com)... 185.199.108.133, 185.199.109.133, 185.199.110.133, ...\n",
            "Connecting to raw.githubusercontent.com (raw.githubusercontent.com)|185.199.108.133|:443... connected.\n",
            "HTTP request sent, awaiting response... 200 OK\n",
            "Length: 4049416 (3.9M) [application/octet-stream]\n",
            "Saving to: ‘bestmodel.h5’\n",
            "\n",
            "\rbestmodel.h5          0%[                    ]       0  --.-KB/s               \rbestmodel.h5        100%[===================>]   3.86M  --.-KB/s    in 0.03s   \n",
            "\n",
            "2022-05-15 04:28:09 (124 MB/s) - ‘bestmodel.h5’ saved [4049416/4049416]\n",
            "\n"
          ]
        }
      ]
    },
    {
      "cell_type": "code",
      "source": [
        "from tensorflow import keras\n",
        "model.layers\n",
        "conv = model.layers[0]\n",
        "print(conv.weights[0].shape, conv.weights[1].shape)\n",
        "conv_weights = conv.weights[0].numpy()\n",
        "print(conv_weights.mean(), conv_weights.std())\n",
        "\n",
        "import matplotlib.pyplot as plt\n",
        "plt.hist(conv_weights.reshape(-1,1))\n",
        "plt.xlabel('weight')\n",
        "plt.ylabel('count')\n",
        "plt.show()\n",
        "\n",
        "# 학습한 가중치를 히스토그램으로 나타낸건데, 종 모양이다. 무슨 의미가 있는건가?"
      ],
      "metadata": {
        "colab": {
          "base_uri": "https://localhost:8080/",
          "height": 314
        },
        "id": "PJycaOhOhqyB",
        "outputId": "f5601d7f-592a-4e37-b4db-4c4dd5a64db4"
      },
      "execution_count": null,
      "outputs": [
        {
          "output_type": "stream",
          "name": "stdout",
          "text": [
            "(3, 3, 1, 32) (32,)\n",
            "-0.014175367 0.23105967\n"
          ]
        },
        {
          "output_type": "display_data",
          "data": {
            "text/plain": [
              "<Figure size 432x288 with 1 Axes>"
            ],
            "image/png": "[encoded data removed]"
          },
          "metadata": {
            "needs_background": "light"
          }
        }
      ]
    },
    {
      "cell_type": "code",
      "source": [
        "fig, axs = plt.subplots(2, 16, figsize=(15,2))\n",
        "for i in range(2):\n",
        "  for j in range(16):\n",
        "    axs[i,j].imshow(conv_weights[:,:,0,i*16+j],vmin=-0.5, vmax=0.5)\n",
        "    axs[i,j].axis('off')\n",
        "plt.show()"
      ],
      "metadata": {
        "colab": {
          "base_uri": "https://localhost:8080/",
          "height": 134
        },
        "id": "Q5zcYMew9fNZ",
        "outputId": "df468fff-c9e3-4f1f-bfe9-ce4257f4d572"
      },
      "execution_count": null,
      "outputs": [
        {
          "output_type": "display_data",
          "data": {
            "text/plain": [
              "<Figure size 1080x144 with 32 Axes>"
            ],
            "image/png": "[encoded data removed]"
          },
          "metadata": {
            "needs_background": "light"
          }
        }
      ]
    },
    {
      "cell_type": "code",
      "source": [
        "no_training_model = keras.Sequential()\n",
        "no_training_model.add(keras.layers.Conv2D(32, kernel_size=3, activation='relu', padding='same', input_shape=(28,28,1)))\n",
        "no_training_conv = no_training_model.layers[0]\n",
        "print(no_training_conv.weights[0].shape)\n",
        "no_training_weights = no_training_conv.weights[0].numpy()\n",
        "print(no_training_weights.mean(), no_training_weights.std())"
      ],
      "metadata": {
        "colab": {
          "base_uri": "https://localhost:8080/"
        },
        "id": "Qefyey9cBRwN",
        "outputId": "2efd5a1f-b5a5-47f5-bc7f-980e70faa80d"
      },
      "execution_count": null,
      "outputs": [
        {
          "output_type": "stream",
          "name": "stdout",
          "text": [
            "(3, 3, 1, 32)\n",
            "-0.0044554006 0.08333051\n"
          ]
        }
      ]
    },
    {
      "cell_type": "code",
      "source": [
        "plt.hist(no_training_weights.reshape(-1,1))\n",
        "plt.xlabel('weights')\n",
        "plt.ylabel('count')\n",
        "plt.show()\n",
        "\n",
        "fig, axs = plt.subplots(2, 16, figsize=(15,2))\n",
        "for i in range(2):\n",
        "  for j in range(16):\n",
        "    axs[i,j].imshow(conv_weights[:,:,0,i*16+j],vmin=-0.5, vmax=0.5)\n",
        "    axs[i,j].axis('off')\n",
        "plt.show()"
      ],
      "metadata": {
        "colab": {
          "base_uri": "https://localhost:8080/",
          "height": 396
        },
        "id": "ipalgYb0DjSF",
        "outputId": "adb25ebf-c9d3-40a9-aec1-36a920be4a53"
      },
      "execution_count": null,
      "outputs": [
        {
          "output_type": "display_data",
          "data": {
            "text/plain": [
              "<Figure size 432x288 with 1 Axes>"
            ],
            "image/png": "[encoded data removed]"
          },
          "metadata": {
            "needs_background": "light"
          }
        },
        {
          "output_type": "display_data",
          "data": {
            "text/plain": [
              "<Figure size 1080x144 with 32 Axes>"
            ],
            "image/png": "[encoded data removed]"
          },
          "metadata": {
            "needs_background": "light"
          }
        }
      ]
    },
    {
      "cell_type": "code",
      "source": [
        "dense1 = keras.layers.Dense(100, activation='sigmoid')\n",
        "dense2 = keras.layers.Dense(10, activation='softmax')\n",
        "\n",
        "# 이렇게 하면 마치 inputs가 dense1을 통과해서 hidden이 나온것 처럼 된다!\n",
        "inputs = keras.Input(shape=(784,))\n",
        "hidden = dense1(inputs)\n",
        "outputs = dense2(hidden)\n",
        "model = keras.Model(inputs, outputs)\n",
        "\n",
        "print(model.input)\n",
        "\n",
        "conv_acti = keras.Model(model.input, model.layers[0].output)"
      ],
      "metadata": {
        "colab": {
          "base_uri": "https://localhost:8080/"
        },
        "id": "ZVr1w23XECNn",
        "outputId": "65dad3e7-4921-4972-e4f6-fcf3dd736ba7"
      },
      "execution_count": null,
      "outputs": [
        {
          "output_type": "stream",
          "name": "stdout",
          "text": [
            "KerasTensor(type_spec=TensorSpec(shape=(None, 784), dtype=tf.float32, name='input_2'), name='input_2', description=\"created by layer 'input_2'\")\n"
          ]
        }
      ]
    },
    {
      "cell_type": "code",
      "source": [
        "(train_input, train_target), (test_input, test_target) = keras.datasets.fashion_mnist.load_data()\n",
        "plt.imshow(train_input[0], cmap='gray_r')\n",
        "plt.show()\n",
        "# inputs = train_input[0:1].reshape(-1,28,28,1)/255.0\n",
        "inputs = train_input[0:1].reshape(-1,784)/255.0\n",
        "feature_maps = conv_acti.predict(inputs)\n",
        "print(feature_maps.shape)"
      ],
      "metadata": {
        "colab": {
          "base_uri": "https://localhost:8080/",
          "height": 282
        },
        "id": "Az77vXASG_-Q",
        "outputId": "6cc88d58-d71b-45cd-a28e-ad20d74b808c"
      },
      "execution_count": null,
      "outputs": [
        {
          "output_type": "display_data",
          "data": {
            "text/plain": [
              "<Figure size 432x288 with 1 Axes>"
            ],
            "image/png": "[encoded data removed]"
          },
          "metadata": {
            "needs_background": "light"
          }
        },
        {
          "output_type": "stream",
          "name": "stdout",
          "text": [
            "(1, 784)\n"
          ]
        }
      ]
    },
    {
      "cell_type": "markdown",
      "source": [
        "# 여기 코드 작동이 안됨. 이해도 잘 안됨. p.474 ~ p.478은 나중에 필요하면 다시 볼 것."
      ],
      "metadata": {
        "id": "4m2UvKxyJkGY"
      }
    },
    {
      "cell_type": "code",
      "source": [
        ""
      ],
      "metadata": {
        "id": "xtAQHFNfJ_u-"
      },
      "execution_count": null,
      "outputs": []
    }
  ]
}