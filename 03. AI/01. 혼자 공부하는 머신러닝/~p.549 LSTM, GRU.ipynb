{
  "nbformat": 4,
  "nbformat_minor": 0,
  "metadata": {
    "colab": {
      "name": "~p.549 - LSTM, GRU.ipynb",
      "provenance": [],
      "collapsed_sections": []
    },
    "kernelspec": {
      "name": "python3",
      "display_name": "Python 3"
    },
    "language_info": {
      "name": "python"
    },
    "accelerator": "GPU"
  },
  "cells": [
    {
      "cell_type": "code",
      "execution_count": null,
      "metadata": {
        "id": "grRGJOSb0RlG"
      },
      "outputs": [],
      "source": [
        "# LSTM과 GRU 셀\n",
        "# 기본적으로 기본 순환층은 긴 시퀀스를 학습하기 어렵다. 반복될수록 그 전의 은닉 상태에 담긴 정보가 희석되기 때문이다.\n",
        "\n",
        "# LSTM에는 순환되는 상태가 은닉 / 셀 상태 총 2개이다.\n",
        "# 삭제 게이트, 입력 게이트, 출력 게이트로 구성되어 있다.\n"
      ]
    },
    {
      "cell_type": "code",
      "source": [
        "from tensorflow.keras.datasets import imdb\n",
        "from sklearn.model_selection import train_test_split\n",
        "(train_input, train_target), (test_input, test_target) = imdb.load_data(num_words=500)\n",
        "train_input, val_input, train_target, val_target = train_test_split(train_input, train_target, test_size=0.2, random_state=42)\n",
        "\n",
        "# Padding 추가\n",
        "from tensorflow.keras.preprocessing.sequence import pad_sequences\n",
        "train_seq = pad_sequences(train_input, maxlen=100)\n",
        "val_seq = pad_sequences(val_input, maxlen=100)\n",
        "\n",
        "from tensorflow import keras\n",
        "model = keras.Sequential()\n",
        "model.add(keras.layers.Embedding(500,16,input_length=100))\n",
        "model.add(keras.layers.LSTM(8))\n",
        "model.add(keras.layers.Dense(1, activation='sigmoid'))\n",
        "\n",
        "model.summary()"
      ],
      "metadata": {
        "colab": {
          "base_uri": "https://localhost:8080/"
        },
        "id": "4bEYA_mM2Mgv",
        "outputId": "b06b2054-0d2c-4418-9187-e9ec4547eab5"
      },
      "execution_count": null,
      "outputs": [
        {
          "output_type": "stream",
          "name": "stdout",
          "text": [
            "Downloading data from https://storage.googleapis.com/tensorflow/tf-keras-datasets/imdb.npz\n",
            "17465344/17464789 [==============================] - 0s 0us/step\n",
            "17473536/17464789 [==============================] - 0s 0us/step\n",
            "Model: \"sequential\"\n",
            "_________________________________________________________________\n",
            " Layer (type)                Output Shape              Param #   \n",
            "=================================================================\n",
            " embedding (Embedding)       (None, 100, 16)           8000      \n",
            "                                                                 \n",
            " lstm (LSTM)                 (None, 8)                 800       \n",
            "                                                                 \n",
            " dense (Dense)               (None, 1)                 9         \n",
            "                                                                 \n",
            "=================================================================\n",
            "Total params: 8,809\n",
            "Trainable params: 8,809\n",
            "Non-trainable params: 0\n",
            "_________________________________________________________________\n"
          ]
        }
      ]
    },
    {
      "cell_type": "code",
      "source": [
        "rmsprop = keras.optimizers.RMSprop(learning_rate=1e-4)\n",
        "model.compile(optimizer=rmsprop, loss='binary_crossentropy',metrics=['accuracy'])\n",
        "checkpoint_cb = keras.callbacks.ModelCheckpoint('best-lstm-model.h5', save_best_only = True)\n",
        "early_stopping_cb = keras.callbacks.EarlyStopping(patience=3, restore_best_weights=True)\n",
        "history = model.fit(train_seq, train_target, epochs=100, batch_size=64, validation_data=(val_seq, val_target), callbacks=[checkpoint_cb, early_stopping_cb])"
      ],
      "metadata": {
        "colab": {
          "base_uri": "https://localhost:8080/"
        },
        "id": "tJu7HkBd3u7G",
        "outputId": "91f08dc7-38ff-4285-8278-1177706d6112"
      },
      "execution_count": null,
      "outputs": [
        {
          "output_type": "stream",
          "name": "stdout",
          "text": [
            "Epoch 1/100\n",
            "313/313 [==============================] - 15s 24ms/step - loss: 0.6928 - accuracy: 0.5196 - val_loss: 0.6923 - val_accuracy: 0.5558\n",
            "Epoch 2/100\n",
            "313/313 [==============================] - 7s 21ms/step - loss: 0.6912 - accuracy: 0.5911 - val_loss: 0.6904 - val_accuracy: 0.5932\n",
            "Epoch 3/100\n",
            "313/313 [==============================] - 6s 21ms/step - loss: 0.6877 - accuracy: 0.6259 - val_loss: 0.6856 - val_accuracy: 0.6198\n",
            "Epoch 4/100\n",
            "313/313 [==============================] - 7s 21ms/step - loss: 0.6791 - accuracy: 0.6480 - val_loss: 0.6726 - val_accuracy: 0.6582\n",
            "Epoch 5/100\n",
            "313/313 [==============================] - 7s 21ms/step - loss: 0.6495 - accuracy: 0.6840 - val_loss: 0.6152 - val_accuracy: 0.6870\n",
            "Epoch 6/100\n",
            "313/313 [==============================] - 7s 21ms/step - loss: 0.5773 - accuracy: 0.7299 - val_loss: 0.5657 - val_accuracy: 0.7346\n",
            "Epoch 7/100\n",
            "313/313 [==============================] - 7s 21ms/step - loss: 0.5451 - accuracy: 0.7501 - val_loss: 0.5389 - val_accuracy: 0.7582\n",
            "Epoch 8/100\n",
            "313/313 [==============================] - 6s 21ms/step - loss: 0.5214 - accuracy: 0.7633 - val_loss: 0.5189 - val_accuracy: 0.7664\n",
            "Epoch 9/100\n",
            "313/313 [==============================] - 7s 21ms/step - loss: 0.5020 - accuracy: 0.7746 - val_loss: 0.5004 - val_accuracy: 0.7766\n",
            "Epoch 10/100\n",
            "313/313 [==============================] - 7s 21ms/step - loss: 0.4857 - accuracy: 0.7817 - val_loss: 0.4871 - val_accuracy: 0.7788\n",
            "Epoch 11/100\n",
            "313/313 [==============================] - 6s 21ms/step - loss: 0.4725 - accuracy: 0.7881 - val_loss: 0.4758 - val_accuracy: 0.7858\n",
            "Epoch 12/100\n",
            "313/313 [==============================] - 8s 24ms/step - loss: 0.4617 - accuracy: 0.7926 - val_loss: 0.4667 - val_accuracy: 0.7896\n",
            "Epoch 13/100\n",
            "313/313 [==============================] - 8s 26ms/step - loss: 0.4522 - accuracy: 0.7990 - val_loss: 0.4601 - val_accuracy: 0.7932\n",
            "Epoch 14/100\n",
            "313/313 [==============================] - 7s 23ms/step - loss: 0.4444 - accuracy: 0.8012 - val_loss: 0.4536 - val_accuracy: 0.7972\n",
            "Epoch 15/100\n",
            "313/313 [==============================] - 7s 23ms/step - loss: 0.4381 - accuracy: 0.8069 - val_loss: 0.4498 - val_accuracy: 0.7976\n",
            "Epoch 16/100\n",
            "313/313 [==============================] - 7s 23ms/step - loss: 0.4328 - accuracy: 0.8081 - val_loss: 0.4453 - val_accuracy: 0.7992\n",
            "Epoch 17/100\n",
            "313/313 [==============================] - 7s 21ms/step - loss: 0.4286 - accuracy: 0.8084 - val_loss: 0.4429 - val_accuracy: 0.7998\n",
            "Epoch 18/100\n",
            "313/313 [==============================] - 7s 21ms/step - loss: 0.4256 - accuracy: 0.8105 - val_loss: 0.4404 - val_accuracy: 0.8000\n",
            "Epoch 19/100\n",
            "313/313 [==============================] - 7s 21ms/step - loss: 0.4223 - accuracy: 0.8111 - val_loss: 0.4402 - val_accuracy: 0.7990\n",
            "Epoch 20/100\n",
            "313/313 [==============================] - 7s 21ms/step - loss: 0.4202 - accuracy: 0.8124 - val_loss: 0.4391 - val_accuracy: 0.7996\n",
            "Epoch 21/100\n",
            "313/313 [==============================] - 7s 21ms/step - loss: 0.4183 - accuracy: 0.8129 - val_loss: 0.4360 - val_accuracy: 0.7994\n",
            "Epoch 22/100\n",
            "313/313 [==============================] - 6s 21ms/step - loss: 0.4168 - accuracy: 0.8133 - val_loss: 0.4352 - val_accuracy: 0.8032\n",
            "Epoch 23/100\n",
            "313/313 [==============================] - 7s 21ms/step - loss: 0.4154 - accuracy: 0.8131 - val_loss: 0.4368 - val_accuracy: 0.8016\n",
            "Epoch 24/100\n",
            "313/313 [==============================] - 6s 21ms/step - loss: 0.4143 - accuracy: 0.8140 - val_loss: 0.4336 - val_accuracy: 0.8014\n",
            "Epoch 25/100\n",
            "313/313 [==============================] - 7s 21ms/step - loss: 0.4132 - accuracy: 0.8134 - val_loss: 0.4326 - val_accuracy: 0.8026\n",
            "Epoch 26/100\n",
            "313/313 [==============================] - 7s 21ms/step - loss: 0.4122 - accuracy: 0.8157 - val_loss: 0.4342 - val_accuracy: 0.7988\n",
            "Epoch 27/100\n",
            "313/313 [==============================] - 6s 21ms/step - loss: 0.4111 - accuracy: 0.8140 - val_loss: 0.4354 - val_accuracy: 0.7980\n",
            "Epoch 28/100\n",
            "313/313 [==============================] - 7s 21ms/step - loss: 0.4103 - accuracy: 0.8143 - val_loss: 0.4315 - val_accuracy: 0.8034\n",
            "Epoch 29/100\n",
            "313/313 [==============================] - 7s 23ms/step - loss: 0.4098 - accuracy: 0.8120 - val_loss: 0.4322 - val_accuracy: 0.7984\n",
            "Epoch 30/100\n",
            "313/313 [==============================] - 7s 21ms/step - loss: 0.4090 - accuracy: 0.8133 - val_loss: 0.4308 - val_accuracy: 0.8008\n",
            "Epoch 31/100\n",
            "313/313 [==============================] - 6s 21ms/step - loss: 0.4081 - accuracy: 0.8145 - val_loss: 0.4317 - val_accuracy: 0.8058\n",
            "Epoch 32/100\n",
            "313/313 [==============================] - 6s 21ms/step - loss: 0.4076 - accuracy: 0.8151 - val_loss: 0.4302 - val_accuracy: 0.8006\n",
            "Epoch 33/100\n",
            "313/313 [==============================] - 7s 21ms/step - loss: 0.4072 - accuracy: 0.8151 - val_loss: 0.4303 - val_accuracy: 0.8028\n",
            "Epoch 34/100\n",
            "313/313 [==============================] - 7s 21ms/step - loss: 0.4062 - accuracy: 0.8148 - val_loss: 0.4296 - val_accuracy: 0.7998\n",
            "Epoch 35/100\n",
            "313/313 [==============================] - 7s 21ms/step - loss: 0.4056 - accuracy: 0.8146 - val_loss: 0.4330 - val_accuracy: 0.7964\n",
            "Epoch 36/100\n",
            "313/313 [==============================] - 7s 22ms/step - loss: 0.4052 - accuracy: 0.8149 - val_loss: 0.4302 - val_accuracy: 0.8012\n",
            "Epoch 37/100\n",
            "313/313 [==============================] - 7s 23ms/step - loss: 0.4045 - accuracy: 0.8158 - val_loss: 0.4308 - val_accuracy: 0.8044\n"
          ]
        }
      ]
    },
    {
      "cell_type": "code",
      "source": [
        "import matplotlib.pyplot as plt\n",
        "plt.plot(history.history['loss'])\n",
        "plt.plot(history.history['val_loss'])\n",
        "plt.xlabel('epoch')\n",
        "plt.ylabel('loss')\n",
        "plt.legend(['train', 'val'])\n",
        "plt.show()"
      ],
      "metadata": {
        "colab": {
          "base_uri": "https://localhost:8080/",
          "height": 279
        },
        "id": "u48Kg-j52kfE",
        "outputId": "1df0a031-9954-4c61-c8f6-75336d2b0fea"
      },
      "execution_count": null,
      "outputs": [
        {
          "output_type": "display_data",
          "data": {
            "text/plain": [
              "<Figure size 432x288 with 1 Axes>"
            ],
            "image/png": "[encoded data removed]"
          },
          "metadata": {
            "needs_background": "light"
          }
        }
      ]
    },
    {
      "cell_type": "code",
      "source": [
        "# Dropout을 통해 개선하려한다.\n",
        "# 다만 recurrent_dropout은 문제가 있어서 GPU를 사용할 수 없다.\n",
        "\n",
        "model2 = keras.Sequential()\n",
        "model2.add(keras.layers.Embedding(500,16, input_length=100))\n",
        "model2.add(keras.layers.LSTM(8, dropout=0.3))\n",
        "model2.add(keras.layers.Dense(1, activation=\"sigmoid\"))"
      ],
      "metadata": {
        "id": "BYA6PpmS7GYs"
      },
      "execution_count": null,
      "outputs": []
    },
    {
      "cell_type": "code",
      "source": [
        "# Dropout을 통해 개선한 버전이다.\n",
        "rmsprop = keras.optimizers.RMSprop(learning_rate=1e-4)\n",
        "model2.compile(optimizer=rmsprop, loss='binary_crossentropy',metrics=['accuracy'])\n",
        "checkpoint_cb = keras.callbacks.ModelCheckpoint('best-lstm-model.h5', save_best_only = True)\n",
        "early_stopping_cb = keras.callbacks.EarlyStopping(patience=3, restore_best_weights=True)\n",
        "history = model2.fit(train_seq, train_target, epochs=100, batch_size=64, validation_data=(val_seq, val_target), callbacks=[checkpoint_cb, early_stopping_cb])"
      ],
      "metadata": {
        "id": "VLv10wbC8cv-"
      },
      "execution_count": null,
      "outputs": []
    },
    {
      "cell_type": "code",
      "source": [
        "plt.plot(history.history['loss'])\n",
        "plt.plot(history.history['val_loss'])\n",
        "plt.xlabel('epoch')\n",
        "plt.ylabel('loss')\n",
        "plt.legend(['train', 'val'])\n",
        "plt.show()"
      ],
      "metadata": {
        "colab": {
          "base_uri": "https://localhost:8080/",
          "height": 279
        },
        "id": "lkd-Sh6V9kX5",
        "outputId": "eee7afab-abd8-4a9d-b714-054d4ce3e03c"
      },
      "execution_count": null,
      "outputs": [
        {
          "output_type": "display_data",
          "data": {
            "text/plain": [
              "<Figure size 432x288 with 1 Axes>"
            ],
            "image/png": "[encoded data removed]"
          },
          "metadata": {
            "needs_background": "light"
          }
        }
      ]
    },
    {
      "cell_type": "code",
      "source": [
        "# 순환층의 은닉 상태는 샘플의 마지막 타임스텝에 대한 은닉 상태만 다음 층으로 전달한다.\n",
        "# 따라서 여러 층을 쌓을 때는 마지막 순환층에서만 마지막 타임스텝의 은닉 상태를 출력하도록 해야한다!\n",
        "\n",
        "model3 = keras.Sequential()\n",
        "model3.add(keras.layers.Embedding(500,16, input_length=100))\n",
        "model3.add(keras.layers.LSTM(8, dropout=0.3, return_sequences=True))\n",
        "model3.add(keras.layers.LSTM(8, dropout=0.3))\n",
        "model3.add(keras.layers.Dense(1, activation=\"sigmoid\"))\n",
        "model3.summary()"
      ],
      "metadata": {
        "colab": {
          "base_uri": "https://localhost:8080/"
        },
        "id": "WOYUeemo94i_",
        "outputId": "ab8e6543-c3d9-4bde-c77b-02b52b9573df"
      },
      "execution_count": null,
      "outputs": [
        {
          "output_type": "stream",
          "name": "stdout",
          "text": [
            "Model: \"sequential_3\"\n",
            "_________________________________________________________________\n",
            " Layer (type)                Output Shape              Param #   \n",
            "=================================================================\n",
            " embedding_3 (Embedding)     (None, 100, 16)           8000      \n",
            "                                                                 \n",
            " lstm_4 (LSTM)               (None, 100, 8)            800       \n",
            "                                                                 \n",
            " lstm_5 (LSTM)               (None, 8)                 544       \n",
            "                                                                 \n",
            " dense_2 (Dense)             (None, 1)                 9         \n",
            "                                                                 \n",
            "=================================================================\n",
            "Total params: 9,353\n",
            "Trainable params: 9,353\n",
            "Non-trainable params: 0\n",
            "_________________________________________________________________\n"
          ]
        }
      ]
    },
    {
      "cell_type": "code",
      "source": [
        "# model3 훈련\n",
        "rmsprop = keras.optimizers.RMSprop(learning_rate=1e-4)\n",
        "model2.compile(optimizer=rmsprop, loss='binary_crossentropy',metrics=['accuracy'])\n",
        "checkpoint_cb = keras.callbacks.ModelCheckpoint('best-lstm-model.h5', save_best_only = True)\n",
        "early_stopping_cb = keras.callbacks.EarlyStopping(patience=3, restore_best_weights=True)\n",
        "history = model2.fit(train_seq, train_target, epochs=100, batch_size=64, validation_data=(val_seq, val_target), callbacks=[checkpoint_cb, early_stopping_cb])"
      ],
      "metadata": {
        "colab": {
          "base_uri": "https://localhost:8080/"
        },
        "id": "aTiXzhUA-xxG",
        "outputId": "5272f239-a5d8-4265-8564-588ef7c07e77"
      },
      "execution_count": null,
      "outputs": [
        {
          "output_type": "stream",
          "name": "stdout",
          "text": [
            "Epoch 1/100\n",
            "313/313 [==============================] - 11s 24ms/step - loss: 2.9506 - accuracy: 0.0255 - val_loss: 2.4999 - val_accuracy: 0.0024\n",
            "Epoch 2/100\n",
            "313/313 [==============================] - 7s 21ms/step - loss: 2.2225 - accuracy: 0.0012 - val_loss: 2.0244 - val_accuracy: 0.0000e+00\n",
            "Epoch 3/100\n",
            "313/313 [==============================] - 6s 21ms/step - loss: 1.7989 - accuracy: 0.0000e+00 - val_loss: 1.6995 - val_accuracy: 0.0000e+00\n",
            "Epoch 4/100\n",
            "313/313 [==============================] - 6s 20ms/step - loss: 1.6001 - accuracy: 0.0000e+00 - val_loss: 1.5998 - val_accuracy: 0.0000e+00\n",
            "Epoch 5/100\n",
            "313/313 [==============================] - 6s 20ms/step - loss: 1.5620 - accuracy: 0.0049 - val_loss: 1.5886 - val_accuracy: 0.0098\n",
            "Epoch 6/100\n",
            "313/313 [==============================] - 6s 20ms/step - loss: 1.5554 - accuracy: 0.0808 - val_loss: 1.5841 - val_accuracy: 0.1346\n",
            "Epoch 7/100\n",
            "313/313 [==============================] - 6s 20ms/step - loss: 1.5500 - accuracy: 0.1893 - val_loss: 1.5786 - val_accuracy: 0.2194\n",
            "Epoch 8/100\n",
            "313/313 [==============================] - 6s 20ms/step - loss: 1.5427 - accuracy: 0.2504 - val_loss: 1.5710 - val_accuracy: 0.2348\n",
            "Epoch 9/100\n",
            "313/313 [==============================] - 6s 20ms/step - loss: 1.5325 - accuracy: 0.2487 - val_loss: 1.5607 - val_accuracy: 0.1346\n",
            "Epoch 10/100\n",
            "313/313 [==============================] - 6s 20ms/step - loss: 1.5165 - accuracy: 0.1513 - val_loss: 1.5235 - val_accuracy: 0.0294\n",
            "Epoch 11/100\n",
            "313/313 [==============================] - 6s 20ms/step - loss: 1.1347 - accuracy: 0.0126 - val_loss: 0.7889 - val_accuracy: 0.0014\n",
            "Epoch 12/100\n",
            "313/313 [==============================] - 6s 20ms/step - loss: 0.7208 - accuracy: 0.0110 - val_loss: 0.6745 - val_accuracy: 0.0026\n",
            "Epoch 13/100\n",
            "313/313 [==============================] - 6s 20ms/step - loss: 0.6414 - accuracy: 0.0052 - val_loss: 0.6347 - val_accuracy: 0.0000e+00\n",
            "Epoch 14/100\n",
            "313/313 [==============================] - 6s 20ms/step - loss: 0.6113 - accuracy: 0.0021 - val_loss: 0.6038 - val_accuracy: 6.0000e-04\n",
            "Epoch 15/100\n",
            "313/313 [==============================] - 6s 21ms/step - loss: 0.5904 - accuracy: 0.0061 - val_loss: 0.5836 - val_accuracy: 0.0084\n",
            "Epoch 16/100\n",
            "313/313 [==============================] - 6s 20ms/step - loss: 0.5728 - accuracy: 0.0182 - val_loss: 0.5683 - val_accuracy: 0.0174\n",
            "Epoch 17/100\n",
            "313/313 [==============================] - 6s 20ms/step - loss: 0.5598 - accuracy: 0.0295 - val_loss: 0.5582 - val_accuracy: 0.0296\n",
            "Epoch 18/100\n",
            "313/313 [==============================] - 6s 20ms/step - loss: 0.5500 - accuracy: 0.0358 - val_loss: 0.5506 - val_accuracy: 0.0360\n",
            "Epoch 19/100\n",
            "313/313 [==============================] - 6s 20ms/step - loss: 0.5420 - accuracy: 0.0403 - val_loss: 0.5419 - val_accuracy: 0.0378\n",
            "Epoch 20/100\n",
            "313/313 [==============================] - 6s 20ms/step - loss: 0.5343 - accuracy: 0.0454 - val_loss: 0.5362 - val_accuracy: 0.0410\n",
            "Epoch 21/100\n",
            "313/313 [==============================] - 6s 20ms/step - loss: 0.5253 - accuracy: 0.0531 - val_loss: 0.5287 - val_accuracy: 0.0522\n",
            "Epoch 22/100\n",
            "313/313 [==============================] - 6s 20ms/step - loss: 0.5192 - accuracy: 0.0532 - val_loss: 0.5270 - val_accuracy: 0.0490\n",
            "Epoch 23/100\n",
            "313/313 [==============================] - 6s 20ms/step - loss: 0.5155 - accuracy: 0.0549 - val_loss: 0.5192 - val_accuracy: 0.0504\n",
            "Epoch 24/100\n",
            "313/313 [==============================] - 6s 20ms/step - loss: 0.5100 - accuracy: 0.0600 - val_loss: 0.5150 - val_accuracy: 0.0632\n",
            "Epoch 25/100\n",
            "313/313 [==============================] - 6s 21ms/step - loss: 0.5058 - accuracy: 0.0668 - val_loss: 0.5120 - val_accuracy: 0.0634\n",
            "Epoch 26/100\n",
            "313/313 [==============================] - 6s 20ms/step - loss: 0.4997 - accuracy: 0.0642 - val_loss: 0.5173 - val_accuracy: 0.0584\n",
            "Epoch 27/100\n",
            "313/313 [==============================] - 6s 21ms/step - loss: 0.4992 - accuracy: 0.0728 - val_loss: 0.5068 - val_accuracy: 0.0830\n",
            "Epoch 28/100\n",
            "313/313 [==============================] - 6s 20ms/step - loss: 0.4950 - accuracy: 0.0794 - val_loss: 0.5056 - val_accuracy: 0.0940\n",
            "Epoch 29/100\n",
            "313/313 [==============================] - 6s 20ms/step - loss: 0.4948 - accuracy: 0.0865 - val_loss: 0.5025 - val_accuracy: 0.0898\n",
            "Epoch 30/100\n",
            "313/313 [==============================] - 6s 20ms/step - loss: 0.4881 - accuracy: 0.0801 - val_loss: 0.5000 - val_accuracy: 0.0808\n",
            "Epoch 31/100\n",
            "313/313 [==============================] - 6s 20ms/step - loss: 0.4863 - accuracy: 0.0746 - val_loss: 0.5003 - val_accuracy: 0.0956\n",
            "Epoch 32/100\n",
            "313/313 [==============================] - 6s 21ms/step - loss: 0.4853 - accuracy: 0.0876 - val_loss: 0.4953 - val_accuracy: 0.1006\n",
            "Epoch 33/100\n",
            "313/313 [==============================] - 6s 20ms/step - loss: 0.4827 - accuracy: 0.0904 - val_loss: 0.4949 - val_accuracy: 0.1124\n",
            "Epoch 34/100\n",
            "313/313 [==============================] - 7s 22ms/step - loss: 0.4803 - accuracy: 0.1006 - val_loss: 0.4908 - val_accuracy: 0.1276\n",
            "Epoch 35/100\n",
            "313/313 [==============================] - 7s 22ms/step - loss: 0.4801 - accuracy: 0.1088 - val_loss: 0.4896 - val_accuracy: 0.1056\n",
            "Epoch 36/100\n",
            "313/313 [==============================] - 7s 22ms/step - loss: 0.4770 - accuracy: 0.1043 - val_loss: 0.4876 - val_accuracy: 0.1116\n",
            "Epoch 37/100\n",
            "313/313 [==============================] - 6s 20ms/step - loss: 0.4733 - accuracy: 0.0959 - val_loss: 0.5014 - val_accuracy: 0.1072\n",
            "Epoch 38/100\n",
            "313/313 [==============================] - 6s 20ms/step - loss: 0.4715 - accuracy: 0.0922 - val_loss: 0.4845 - val_accuracy: 0.1076\n",
            "Epoch 39/100\n",
            "313/313 [==============================] - 6s 20ms/step - loss: 0.4712 - accuracy: 0.0912 - val_loss: 0.4840 - val_accuracy: 0.1080\n",
            "Epoch 40/100\n",
            "313/313 [==============================] - 6s 20ms/step - loss: 0.4693 - accuracy: 0.0905 - val_loss: 0.4812 - val_accuracy: 0.0962\n",
            "Epoch 41/100\n",
            "313/313 [==============================] - 6s 20ms/step - loss: 0.4680 - accuracy: 0.0852 - val_loss: 0.4797 - val_accuracy: 0.0876\n",
            "Epoch 42/100\n",
            "313/313 [==============================] - 6s 20ms/step - loss: 0.4653 - accuracy: 0.0804 - val_loss: 0.4811 - val_accuracy: 0.0820\n",
            "Epoch 43/100\n",
            "313/313 [==============================] - 6s 20ms/step - loss: 0.4630 - accuracy: 0.0750 - val_loss: 0.4913 - val_accuracy: 0.0842\n",
            "Epoch 44/100\n",
            "313/313 [==============================] - 6s 20ms/step - loss: 0.4653 - accuracy: 0.0680 - val_loss: 0.4772 - val_accuracy: 0.0776\n",
            "Epoch 45/100\n",
            "313/313 [==============================] - 6s 21ms/step - loss: 0.4637 - accuracy: 0.0685 - val_loss: 0.4757 - val_accuracy: 0.0742\n",
            "Epoch 46/100\n",
            "313/313 [==============================] - 6s 21ms/step - loss: 0.4626 - accuracy: 0.0653 - val_loss: 0.4785 - val_accuracy: 0.0668\n",
            "Epoch 47/100\n",
            "313/313 [==============================] - 7s 21ms/step - loss: 0.4585 - accuracy: 0.0617 - val_loss: 0.4786 - val_accuracy: 0.0748\n",
            "Epoch 48/100\n",
            "313/313 [==============================] - 6s 21ms/step - loss: 0.4594 - accuracy: 0.0587 - val_loss: 0.4757 - val_accuracy: 0.0592\n",
            "Epoch 49/100\n",
            "313/313 [==============================] - 7s 21ms/step - loss: 0.4610 - accuracy: 0.0562 - val_loss: 0.4773 - val_accuracy: 0.0538\n",
            "Epoch 50/100\n",
            "313/313 [==============================] - 6s 20ms/step - loss: 0.4572 - accuracy: 0.0555 - val_loss: 0.4738 - val_accuracy: 0.0566\n",
            "Epoch 51/100\n",
            "313/313 [==============================] - 6s 20ms/step - loss: 0.4551 - accuracy: 0.0492 - val_loss: 0.4751 - val_accuracy: 0.0576\n",
            "Epoch 52/100\n",
            "313/313 [==============================] - 6s 20ms/step - loss: 0.4558 - accuracy: 0.0536 - val_loss: 0.4764 - val_accuracy: 0.0610\n",
            "Epoch 53/100\n",
            "313/313 [==============================] - 6s 21ms/step - loss: 0.4567 - accuracy: 0.0512 - val_loss: 0.4741 - val_accuracy: 0.0580\n"
          ]
        }
      ]
    },
    {
      "cell_type": "code",
      "source": [
        "# 보통 순환층을 쌓으면 성능이 높아진다.\n",
        "# 이 예에서는 그리 큰 효과를 못 낸 편.\n",
        "\n",
        "plt.plot(history.history['loss'])\n",
        "plt.plot(history.history['val_loss'])\n",
        "plt.xlabel('epoch')\n",
        "plt.ylabel('loss')\n",
        "plt.legend(['train', 'val'])\n",
        "plt.show()"
      ],
      "metadata": {
        "colab": {
          "base_uri": "https://localhost:8080/",
          "height": 279
        },
        "id": "bonNci5L_ogI",
        "outputId": "b64d2504-d4b3-45c0-8207-94608676982d"
      },
      "execution_count": null,
      "outputs": [
        {
          "output_type": "display_data",
          "data": {
            "text/plain": [
              "<Figure size 432x288 with 1 Axes>"
            ],
            "image/png": "[encoded data removed]"
          },
          "metadata": {
            "needs_background": "light"
          }
        }
      ]
    },
    {
      "cell_type": "markdown",
      "source": [
        "# GRU 신경망\n",
        "* LSTM의 간소화 버전이라고 생각하면 된다.\n",
        "* 그런데도 LSTM 못지않게 성능을 잘 낸다."
      ],
      "metadata": {
        "id": "Cgh-k_adABAX"
      }
    },
    {
      "cell_type": "code",
      "source": [
        "model4 = keras.Sequential()\n",
        "model4.add(keras.layers.Embedding(500,16,input_length=100))\n",
        "model4.add(keras.layers.GRU(8)) # 이거만 다르다.\n",
        "model4.add(keras.layers.Dense(1,activation='sigmoid'))\n",
        "model4.summary()"
      ],
      "metadata": {
        "colab": {
          "base_uri": "https://localhost:8080/"
        },
        "id": "C27mnOCbBIW3",
        "outputId": "a7f70464-5584-4083-f9b6-02beeb759a83"
      },
      "execution_count": null,
      "outputs": [
        {
          "output_type": "stream",
          "name": "stdout",
          "text": [
            "Model: \"sequential_4\"\n",
            "_________________________________________________________________\n",
            " Layer (type)                Output Shape              Param #   \n",
            "=================================================================\n",
            " embedding_4 (Embedding)     (None, 100, 16)           8000      \n",
            "                                                                 \n",
            " gru (GRU)                   (None, 8)                 624       \n",
            "                                                                 \n",
            " dense_3 (Dense)             (None, 1)                 9         \n",
            "                                                                 \n",
            "=================================================================\n",
            "Total params: 8,633\n",
            "Trainable params: 8,633\n",
            "Non-trainable params: 0\n",
            "_________________________________________________________________\n"
          ]
        }
      ]
    },
    {
      "cell_type": "code",
      "source": [
        "# model4 - GRU 신경망 훈련\n",
        "rmsprop = keras.optimizers.RMSprop(learning_rate=1e-4)\n",
        "model4.compile(optimizer=rmsprop, loss='binary_crossentropy',metrics=['accuracy'])\n",
        "checkpoint_cb = keras.callbacks.ModelCheckpoint('best-gru-model.h5', save_best_only = True)\n",
        "early_stopping_cb = keras.callbacks.EarlyStopping(patience=3, restore_best_weights=True)\n",
        "history = model4.fit(train_seq, train_target, epochs=100, batch_size=64, validation_data=(val_seq, val_target), callbacks=[checkpoint_cb, early_stopping_cb])"
      ],
      "metadata": {
        "colab": {
          "base_uri": "https://localhost:8080/"
        },
        "id": "eOpGSv0bBdjP",
        "outputId": "5e620281-1d1f-4789-8508-f5a7048ba734"
      },
      "execution_count": null,
      "outputs": [
        {
          "output_type": "stream",
          "name": "stdout",
          "text": [
            "Epoch 1/100\n",
            "313/313 [==============================] - 10s 25ms/step - loss: 0.6920 - accuracy: 0.5304 - val_loss: 0.6912 - val_accuracy: 0.5314\n",
            "Epoch 2/100\n",
            "313/313 [==============================] - 7s 23ms/step - loss: 0.6895 - accuracy: 0.5680 - val_loss: 0.6885 - val_accuracy: 0.5656\n",
            "Epoch 3/100\n",
            "313/313 [==============================] - 7s 22ms/step - loss: 0.6859 - accuracy: 0.5868 - val_loss: 0.6846 - val_accuracy: 0.5840\n",
            "Epoch 4/100\n",
            "313/313 [==============================] - 7s 21ms/step - loss: 0.6807 - accuracy: 0.6023 - val_loss: 0.6790 - val_accuracy: 0.5956\n",
            "Epoch 5/100\n",
            "313/313 [==============================] - 6s 21ms/step - loss: 0.6729 - accuracy: 0.6169 - val_loss: 0.6706 - val_accuracy: 0.6094\n",
            "Epoch 6/100\n",
            "313/313 [==============================] - 7s 23ms/step - loss: 0.6616 - accuracy: 0.6319 - val_loss: 0.6582 - val_accuracy: 0.6224\n",
            "Epoch 7/100\n",
            "313/313 [==============================] - 8s 27ms/step - loss: 0.6447 - accuracy: 0.6488 - val_loss: 0.6391 - val_accuracy: 0.6478\n",
            "Epoch 8/100\n",
            "313/313 [==============================] - 8s 25ms/step - loss: 0.6182 - accuracy: 0.6734 - val_loss: 0.6071 - val_accuracy: 0.6776\n",
            "Epoch 9/100\n",
            "313/313 [==============================] - 8s 24ms/step - loss: 0.5716 - accuracy: 0.7056 - val_loss: 0.5470 - val_accuracy: 0.7302\n",
            "Epoch 10/100\n",
            "313/313 [==============================] - 7s 23ms/step - loss: 0.5083 - accuracy: 0.7541 - val_loss: 0.5072 - val_accuracy: 0.7578\n",
            "Epoch 11/100\n",
            "313/313 [==============================] - 6s 21ms/step - loss: 0.4844 - accuracy: 0.7697 - val_loss: 0.4909 - val_accuracy: 0.7668\n",
            "Epoch 12/100\n",
            "313/313 [==============================] - 7s 22ms/step - loss: 0.4699 - accuracy: 0.7806 - val_loss: 0.4785 - val_accuracy: 0.7774\n",
            "Epoch 13/100\n",
            "313/313 [==============================] - 7s 22ms/step - loss: 0.4590 - accuracy: 0.7886 - val_loss: 0.4707 - val_accuracy: 0.7830\n",
            "Epoch 14/100\n",
            "313/313 [==============================] - 7s 22ms/step - loss: 0.4506 - accuracy: 0.7931 - val_loss: 0.4638 - val_accuracy: 0.7862\n",
            "Epoch 15/100\n",
            "313/313 [==============================] - 8s 26ms/step - loss: 0.4442 - accuracy: 0.7984 - val_loss: 0.4589 - val_accuracy: 0.7880\n",
            "Epoch 16/100\n",
            "313/313 [==============================] - 8s 26ms/step - loss: 0.4389 - accuracy: 0.8020 - val_loss: 0.4565 - val_accuracy: 0.7896\n",
            "Epoch 17/100\n",
            "313/313 [==============================] - 7s 22ms/step - loss: 0.4346 - accuracy: 0.8051 - val_loss: 0.4526 - val_accuracy: 0.7944\n",
            "Epoch 18/100\n",
            "313/313 [==============================] - 6s 21ms/step - loss: 0.4309 - accuracy: 0.8080 - val_loss: 0.4559 - val_accuracy: 0.7886\n",
            "Epoch 19/100\n",
            "313/313 [==============================] - 6s 21ms/step - loss: 0.4281 - accuracy: 0.8094 - val_loss: 0.4499 - val_accuracy: 0.7960\n",
            "Epoch 20/100\n",
            "313/313 [==============================] - 6s 21ms/step - loss: 0.4260 - accuracy: 0.8110 - val_loss: 0.4475 - val_accuracy: 0.7946\n",
            "Epoch 21/100\n",
            "313/313 [==============================] - 7s 22ms/step - loss: 0.4242 - accuracy: 0.8121 - val_loss: 0.4455 - val_accuracy: 0.7976\n",
            "Epoch 22/100\n",
            "313/313 [==============================] - 7s 21ms/step - loss: 0.4225 - accuracy: 0.8123 - val_loss: 0.4468 - val_accuracy: 0.7978\n",
            "Epoch 23/100\n",
            "313/313 [==============================] - 7s 21ms/step - loss: 0.4213 - accuracy: 0.8127 - val_loss: 0.4489 - val_accuracy: 0.7900\n",
            "Epoch 24/100\n",
            "313/313 [==============================] - 7s 21ms/step - loss: 0.4197 - accuracy: 0.8137 - val_loss: 0.4446 - val_accuracy: 0.7988\n",
            "Epoch 25/100\n",
            "313/313 [==============================] - 7s 22ms/step - loss: 0.4187 - accuracy: 0.8140 - val_loss: 0.4450 - val_accuracy: 0.7934\n",
            "Epoch 26/100\n",
            "313/313 [==============================] - 7s 21ms/step - loss: 0.4181 - accuracy: 0.8130 - val_loss: 0.4429 - val_accuracy: 0.7956\n",
            "Epoch 27/100\n",
            "313/313 [==============================] - 7s 22ms/step - loss: 0.4168 - accuracy: 0.8154 - val_loss: 0.4421 - val_accuracy: 0.7978\n",
            "Epoch 28/100\n",
            "313/313 [==============================] - 7s 22ms/step - loss: 0.4166 - accuracy: 0.8144 - val_loss: 0.4422 - val_accuracy: 0.7982\n",
            "Epoch 29/100\n",
            "313/313 [==============================] - 7s 22ms/step - loss: 0.4161 - accuracy: 0.8147 - val_loss: 0.4409 - val_accuracy: 0.7944\n",
            "Epoch 30/100\n",
            "313/313 [==============================] - 7s 21ms/step - loss: 0.4153 - accuracy: 0.8153 - val_loss: 0.4420 - val_accuracy: 0.7992\n",
            "Epoch 31/100\n",
            "313/313 [==============================] - 7s 21ms/step - loss: 0.4147 - accuracy: 0.8147 - val_loss: 0.4410 - val_accuracy: 0.7964\n",
            "Epoch 32/100\n",
            "313/313 [==============================] - 7s 21ms/step - loss: 0.4142 - accuracy: 0.8156 - val_loss: 0.4406 - val_accuracy: 0.7946\n",
            "Epoch 33/100\n",
            "313/313 [==============================] - 7s 22ms/step - loss: 0.4135 - accuracy: 0.8165 - val_loss: 0.4431 - val_accuracy: 0.7932\n",
            "Epoch 34/100\n",
            "313/313 [==============================] - 7s 22ms/step - loss: 0.4134 - accuracy: 0.8166 - val_loss: 0.4408 - val_accuracy: 0.7952\n",
            "Epoch 35/100\n",
            "313/313 [==============================] - 7s 22ms/step - loss: 0.4128 - accuracy: 0.8156 - val_loss: 0.4406 - val_accuracy: 0.7954\n"
          ]
        }
      ]
    },
    {
      "cell_type": "code",
      "source": [
        "# LSTM과 거의 비슷한 성능을 낸다.\n",
        "\n",
        "plt.plot(history.history['loss'])\n",
        "plt.plot(history.history['val_loss'])\n",
        "plt.xlabel('epoch')\n",
        "plt.ylabel('loss')\n",
        "plt.legend(['train', 'val'])\n",
        "plt.show()"
      ],
      "metadata": {
        "id": "J1kOSpPSB8pF"
      },
      "execution_count": null,
      "outputs": []
    },
    {
      "cell_type": "code",
      "source": [
        "# 2rnn이 어딨는지 몰라서 시도는 못해봤는데\n",
        "# 어쨌든 이런 식으로 평가 하면 된다.\n",
        "test_seq = pad_sequences(test_input, maxlen=100)\n",
        "rnn_model = keras.models.load_model('best-2rnn-model.h5')\n",
        "rnn_model.evaluate(test_seq, test_target)"
      ],
      "metadata": {
        "id": "wkUjbsXrCEmm"
      },
      "execution_count": null,
      "outputs": []
    },
    {
      "cell_type": "markdown",
      "source": [
        "# 책 끝 !!!"
      ],
      "metadata": {
        "id": "2SEXk0isDrnN"
      }
    }
  ]
}