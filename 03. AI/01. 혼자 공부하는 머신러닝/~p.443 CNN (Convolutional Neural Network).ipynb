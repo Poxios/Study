{
  "nbformat": 4,
  "nbformat_minor": 0,
  "metadata": {
    "colab": {
      "name": "~p.443 - CNN (Convolutional Neural Network).ipynb",
      "provenance": []
    },
    "kernelspec": {
      "name": "python3",
      "display_name": "Python 3"
    },
    "language_info": {
      "name": "python"
    }
  },
  "cells": [
    {
      "cell_type": "code",
      "execution_count": null,
      "metadata": {
        "id": "HF-R0kI_aBCW"
      },
      "outputs": [],
      "source": [
        "# 합성곱 신경망의 구성 요소\n",
        "\n",
        "# 데이터에 마법의 도장을 찍어서 유용한 특성만 드러나게 하는 것으로 비유할 수 있다.\n",
        "\n",
        "# 합성곱 신경망: 기존의 신경망은 인풋이 10개이고 뉴런이 10개이면 각 10개의 가중치를 가지고 1개의 출력을\n",
        "# 낸건데, 합성곱 신경망은, 모두 동일한 가중치 3개를 가지고 모든 인풋에 적용, 즉 3개의 가중치를 가지고 8개의\n",
        "# 출력을 낸다.\n",
        "\n",
        "# 이 말은, 모두 동일한 종류의 뉴런을 각각 3개씩 묶어서 적용시킨다는 말이다!\n",
        "\n",
        "# 근데 뉴런이라는 말을 쓰기가 어색하다. 즉, CNN(Convolutional Neural Network 합성곱 신경망)에서는\n",
        "# 뉴런이 아닌 필터, 커널이라고 부른다.\n",
        "\n",
        "# 합성곱 계산으로 나온 출력들을 특별히 '특성 맵'이라고 부른다.\n",
        "\n",
        "# 그러니까 마치 '채'를 생각하면 된다. '틀'같은거로 원본 인풋을 걸러낸다.\n",
        "# 적당히 묶어서, 그 값들을 사용하는거다."
      ]
    },
    {
      "cell_type": "code",
      "source": [
        "from tensorflow import keras\n",
        "# (필터의 개수, 필터의 크기, 활성화 함수 종류)\n",
        "keras.layers.Conv2D(10, kernel_size=(3,3), activation='relu')\n",
        "\n",
        "# 참고: 특성 맵은 활성화 함수까지 통과 한 후의 결과를 말한다.\n",
        "\n",
        "# 커널의 크기는 정하기 나름이지만, 보통 (3,3), (3,5)의 크기가 권장된다."
      ],
      "metadata": {
        "id": "QUYKECFXfvoG"
      },
      "execution_count": null,
      "outputs": []
    },
    {
      "cell_type": "code",
      "source": [
        "# 패딩과 스트라이드\n",
        "\n",
        "# 패딩\n",
        "\n",
        "# (4,4) 크기의 인풋에 (3,3) 커널을 씌우면 (2,2) 맵이 만들어진다.\n",
        "# 그런데 이때 (4,4) 맵을 만들고 싶으면 어떻게 해야하는가?\n",
        "\n",
        "# 이때 사용되는게 세임 패딩이다. CSS 패딩처럼, 모서리 4마디에 모두 0을 채워 넣어 준다.\n",
        "# 이렇게 하는 이유는, 예를 들어 사각형으로 2차원 인풋이 있을 때 꼭짓점에 있는 4개의 인풋은,\n",
        "# 각각 한번씩밖에 계산이 안되기 때문이다.\n",
        "\n",
        "# 패딩을 1픽셀만 하지 않아도 된다. 2픽셀씩 해야 전 픽셀이 골고루 인풋의 역할을 할 수 있는 경우도 있기 때문이다.\n",
        "# 커널의 크기에 따라 달라지는듯.\n",
        "\n",
        "# 스트라이드\n",
        "\n",
        "# 커널이 한칸씩 오른쪽으로, 아래로 이동한다고 했는데, 한칸이 아니고 여러 칸씩 이동하게 하려면\n",
        "# 바로 이 스트라이드 옵션을 사용한다.\n",
        "# 다만, 가로 세로를 다른 칸으로 이동시키는 일은 거의 드물고,\n",
        "# 애초에 이 옵션을 사용하는 일이 거의 없다.\n",
        "\n",
        "# 풀링\n",
        "\n",
        "# 그 전의 작업으로 나온 특성 맵을 줄여버리는 거다. 예를 들어서, 특성맵이\n",
        "# (2,2,3) 즉, 2x2 짜리가 3개 있었다고 하면 \n",
        "# (1,1,3) 그러니까 1x1 짜리 3개로 바꿔버리는 거다.\n",
        "# 그래서 이동하는 칸수도 한칸이 아니고 다 다르고,\n",
        "# 단순 픽셀 압축같은걸 수행하기 때문에 그냥 평균 풀링, 최대 풀링\n",
        "# 이런 식으로 압축 계산만 수행한다.\n",
        "\n",
        "keras.layers.MaxPooling2D(2)\n",
        "\n",
        "# 위 줄은 다음과 같다. 어차피 스트라이드가 2이므로 valid 외의 옵션을 넣는 경우는 거의 없다.\n",
        "keras.layers.MaxPooling2D(2, strides=2, padding='valid')\n"
      ],
      "metadata": {
        "id": "QeELOwlGg9aN"
      },
      "execution_count": null,
      "outputs": []
    },
    {
      "cell_type": "markdown",
      "source": [
        "# 이 모든걸 합친게 바로 합성곱 신경망이다!"
      ],
      "metadata": {
        "id": "_mySQ1gLmm4W"
      }
    },
    {
      "cell_type": "code",
      "source": [
        "# 사실 합성곱 신경망, keras의 이 부분은 항상 3차원 입력을 기대한다.\n",
        "# RGB 칼라가 바로 이 상황인데, 그래서 3차원 도장 여러개를 찍으면 가로, 세로는 점점 줄어드는데 (묶으니까)\n",
        "# 깊이는 점점 깊어진다. (가중치가 서로 다른 도장들을 각각 돌려가면서 찍으니까.)"
      ],
      "metadata": {
        "id": "5eBtqu1zmp2P"
      },
      "execution_count": null,
      "outputs": []
    },
    {
      "cell_type": "markdown",
      "source": [
        ""
      ],
      "metadata": {
        "id": "JdEQLaVGmm0a"
      }
    }
  ]
}